{
 "cells": [
  {
   "cell_type": "code",
   "execution_count": null,
   "metadata": {},
   "outputs": [],
   "source": [
    "import numpy as np\n",
    "import pandas as pd\n",
    "from keras.layers import Dense\n",
    "from keras.models import Sequential\n",
    "from sklearn.metrics import mean_squared_error\n",
    "from sklearn.preprocessing import StandardScaler\n",
    "from sklearn.model_selection import train_test_split"
   ]
  },
  {
   "cell_type": "code",
   "execution_count": null,
   "metadata": {},
   "outputs": [],
   "source": [
    "# Get data\n",
    "concrete_data = pd.read_csv('https://cocl.us/concrete_data')\n",
    "# describe data\n",
    "print(concrete_data.describe())\n",
    "# Check for null values\n",
    "print(concrete_data.isnull().sum())"
   ]
  },
  {
   "cell_type": "code",
   "execution_count": null,
   "metadata": {},
   "outputs": [],
   "source": [
    "# Split predictors and target\n",
    "concrete_data_columns = concrete_data.columns\n",
    "predictors = concrete_data[concrete_data_columns[concrete_data_columns != 'Strength']]\n",
    "target = concrete_data['Strength']"
   ]
  },
  {
   "cell_type": "code",
   "execution_count": null,
   "metadata": {},
   "outputs": [],
   "source": [
    "# Define regression model\n",
    "def regression_model(n_cols: int, n_dense: int):\n",
    "    # create model\n",
    "    model = Sequential()\n",
    "    # hidden layers\n",
    "    model.add(Dense(10, activation='relu', input_shape=(n_cols,)))\n",
    "    for _ in range(n_dense - 1):\n",
    "        model.add(Dense(10, activation='relu'))\n",
    "    # output layer\n",
    "    model.add(Dense(1))\n",
    "    # compile model\n",
    "    model.compile(optimizer='adam', loss='mean_squared_error')\n",
    "    return model"
   ]
  },
  {
   "cell_type": "code",
   "execution_count": null,
   "metadata": {},
   "outputs": [],
   "source": [
    "# Define fit, predict and return mse\n",
    "def fit_predict_model(n_dense: int, epoch: int, predictors: list) -> list:\n",
    "    mse_list = []\n",
    "    for _ in range(epoch):\n",
    "        # Train and test split\n",
    "        X_train, X_test, y_train, y_test = train_test_split(\n",
    "            predictors, target, test_size=0.30)\n",
    "        # build the model\n",
    "        model = regression_model(predictors.shape[1], n_dense)\n",
    "        # fit the model\n",
    "        model.fit(X_train, y_train, epochs=50)\n",
    "        # predict\n",
    "        y_hat = model.predict(X_test)\n",
    "        # mean squared error\n",
    "        mse_list.append(mean_squared_error(y_test, y_hat))\n",
    "        # calculate statistics\n",
    "        mean = np.mean(mse_list)\n",
    "        std = np.std(mse_list)\n",
    "    # return\n",
    "    return mean, std"
   ]
  },
  {
   "cell_type": "code",
   "execution_count": null,
   "metadata": {},
   "outputs": [],
   "source": [
    "# 1 hidden layer, 50 epoch and predictors without normalization\n",
    "mean_without_norm, std_without_norm = fit_predict_model(1, 50, predictors)\n",
    "print(f\"Mean: {mean_without_norm}\")\n",
    "print(f\"Standard deviation: {std_without_norm}\")"
   ]
  },
  {
   "cell_type": "code",
   "execution_count": null,
   "metadata": {},
   "outputs": [],
   "source": [
    "# 1 hidden layer, 50 epoch and predictors normalized\n",
    "scaler = StandardScaler()\n",
    "predictors_normalized = scaler.fit_transform(predictors)\n",
    "mean_normalized, std_normalized = fit_predict_model(1, 50, predictors_normalized)\n",
    "print(f\"Mean: {mean_normalized}\")\n",
    "print(f\"Standard deviation: {std_normalized}\")"
   ]
  },
  {
   "cell_type": "code",
   "execution_count": null,
   "metadata": {},
   "outputs": [],
   "source": [
    "# 1 hidden layer, 100 epoch and predictors normalized\n",
    "mean_normalized, std_normalized = fit_predict_model(1, 100, predictors_normalized)\n",
    "print(f\"Mean: {mean_normalized}\")\n",
    "print(f\"Standard deviation: {std_normalized}\")"
   ]
  },
  {
   "cell_type": "code",
   "execution_count": null,
   "metadata": {},
   "outputs": [],
   "source": [
    "# 10 hidden layer, 50 epoch and predictors normalized\n",
    "mean_normalized, std_normalized = fit_predict_model(10, 50, predictors_normalized)\n",
    "print(f\"Mean: {mean_normalized}\")\n",
    "print(f\"Standard deviation: {std_normalized}\")"
   ]
  }
 ],
 "metadata": {
  "kernelspec": {
   "display_name": "projects",
   "language": "python",
   "name": "python3"
  },
  "language_info": {
   "codemirror_mode": {
    "name": "ipython",
    "version": 3
   },
   "file_extension": ".py",
   "mimetype": "text/x-python",
   "name": "python",
   "nbconvert_exporter": "python",
   "pygments_lexer": "ipython3",
   "version": "3.10.11"
  }
 },
 "nbformat": 4,
 "nbformat_minor": 2
}
